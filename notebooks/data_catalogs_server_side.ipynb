{
 "cells": [
  {
   "cell_type": "markdown",
   "id": "e55e2ce3-254d-417b-933b-eacf0a1899ba",
   "metadata": {},
   "source": [
    "* https://github.com/stac-utils/xstac <- this is cool, shows how to make a STAC catalog.\n",
    "    * An example w/ ERA5 https://github.com/stac-utils/xstac/blob/main/examples/era5/generate.py\n",
    "    * Is there something simular for OPeNDAP catalogs?"
   ]
  },
  {
   "cell_type": "code",
   "execution_count": null,
   "id": "51d70bdb-a3a7-4ebc-a0c3-089d51596769",
   "metadata": {},
   "outputs": [],
   "source": []
  }
 ],
 "metadata": {
  "kernelspec": {
   "display_name": "Python 3 (ipykernel)",
   "language": "python",
   "name": "python3"
  },
  "language_info": {
   "codemirror_mode": {
    "name": "ipython",
    "version": 3
   },
   "file_extension": ".py",
   "mimetype": "text/x-python",
   "name": "python",
   "nbconvert_exporter": "python",
   "pygments_lexer": "ipython3",
   "version": "3.11.0"
  }
 },
 "nbformat": 4,
 "nbformat_minor": 5
}
