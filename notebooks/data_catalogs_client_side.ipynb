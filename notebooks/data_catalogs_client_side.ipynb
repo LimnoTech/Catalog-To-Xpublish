{
 "cells": [
  {
   "cell_type": "markdown",
   "id": "c74e6d35-2092-4087-b24e-697c5dd28984",
   "metadata": {},
   "source": [
    "Exploring data catalog interfaces\n",
    "=================================\n",
    "* We should look into Intake as a data loader (Driver) and and cataloging. https://intake.readthedocs.io/en/latest/guide.html\n",
    "    * https://projectpythia.org/landsat-ml-cookbook/notebooks/1.1_Data_Ingestion-Intake.html\n",
    "    * https://github.com/LimnoTech/pylimno/blob/master/pangeo_notebook_examples/Intake_Xarray_for_SFBOFS_FVCOM_netCDF.ipynb\n",
    "* We should explore STAC as a format, as well as `pystac-client` https://pystac-client.readthedocs.io/en/stable/\n",
    "    * https://projectpythia.org/landsat-ml-cookbook/notebooks/1.0_Data_Ingestion-Planetary_Computer.html\n",
    "* OPeNDAP Data Catalog (ODC) us another format via json files: https://gdptools.readthedocs.io/en/develop/Examples/OPeNDAP-Catalog/terraclime_et.html"
   ]
  },
  {
   "cell_type": "code",
   "execution_count": null,
   "id": "aa4031cc-6f95-408a-ad9d-cd96dfa8d965",
   "metadata": {},
   "outputs": [],
   "source": []
  }
 ],
 "metadata": {
  "kernelspec": {
   "display_name": "Python 3 (ipykernel)",
   "language": "python",
   "name": "python3"
  },
  "language_info": {
   "codemirror_mode": {
    "name": "ipython",
    "version": 3
   },
   "file_extension": ".py",
   "mimetype": "text/x-python",
   "name": "python",
   "nbconvert_exporter": "python",
   "pygments_lexer": "ipython3",
   "version": "3.11.0"
  }
 },
 "nbformat": 4,
 "nbformat_minor": 5
}
