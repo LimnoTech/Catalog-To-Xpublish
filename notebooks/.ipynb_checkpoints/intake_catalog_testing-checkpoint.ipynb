{
 "cells": [
  {
   "cell_type": "markdown",
   "id": "ce6abf0a-e36b-40a6-b2f7-c71978dd0abd",
   "metadata": {},
   "source": [
    "# Catalog testing\n",
    "\n",
    "**Author:** Xavier R Nogueira\n",
    "\n",
    "**Overview:** The intake catalog will be the core of our first server implementation. Reading data descriptions, drivers, and locations from the catalog will allow xpublish to meet the expected OPeNDAP endpoint functionality. Later on we will also (potentially) implement read-in from a STAC catalog."
   ]
  },
  {
   "cell_type": "code",
   "execution_count": 3,
   "id": "b51187e3-8f38-4cdb-87a1-db8595d76550",
   "metadata": {
    "tags": []
   },
   "outputs": [],
   "source": [
    "import intake\n",
    "from pathlib import Path"
   ]
  },
  {
   "cell_type": "code",
   "execution_count": 13,
   "id": "a12fd1da-2489-4daf-996c-e2038bb49eee",
   "metadata": {
    "tags": []
   },
   "outputs": [
    {
     "name": "stdout",
     "output_type": "stream",
     "text": [
      "[WindowsPath('C:/Users/xrnogueira/Documents/Xpublish-OPeNDAP-Server/intake_catalogs/sample_zarr_catalog.yml')]\n"
     ]
    }
   ],
   "source": [
    "INTAKE_CATALOG_DIR = Path.cwd().parent / 'intake_catalogs'\n",
    "\n",
    "# find a YAML intake catalogs\n",
    "intake_yamls = []\n",
    "for cat in INTAKE_CATALOG_DIR.iterdir():\n",
    "    if cat.suffix == '.yml':\n",
    "        intake_yamls.append(cat)\n",
    "print(intake_yamls)"
   ]
  },
  {
   "cell_type": "code",
   "execution_count": null,
   "id": "270eafc7-2a64-4ed9-b8e5-fa1412c407ec",
   "metadata": {},
   "outputs": [],
   "source": []
  },
  {
   "cell_type": "code",
   "execution_count": null,
   "id": "7f8cee7a-b3bf-4c22-bdef-15e2050c4fb2",
   "metadata": {},
   "outputs": [],
   "source": []
  },
  {
   "cell_type": "code",
   "execution_count": null,
   "id": "0f3b3010-9c5c-4ecf-b87b-017f14392bd4",
   "metadata": {},
   "outputs": [],
   "source": []
  }
 ],
 "metadata": {
  "kernelspec": {
   "display_name": "Python 3 (ipykernel)",
   "language": "python",
   "name": "python3"
  },
  "language_info": {
   "codemirror_mode": {
    "name": "ipython",
    "version": 3
   },
   "file_extension": ".py",
   "mimetype": "text/x-python",
   "name": "python",
   "nbconvert_exporter": "python",
   "pygments_lexer": "ipython3",
   "version": "3.11.0"
  }
 },
 "nbformat": 4,
 "nbformat_minor": 5
}
