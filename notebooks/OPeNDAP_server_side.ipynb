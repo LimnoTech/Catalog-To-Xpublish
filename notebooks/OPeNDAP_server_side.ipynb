{
 "cells": [
  {
   "cell_type": "markdown",
   "id": "164cf210-cabf-4b58-a6bc-29d825408c7f",
   "metadata": {},
   "source": [
    "Server side OPeNDAP protocol w/ `PyDAP`\n",
    "=============================================\n",
    "* Explore PyDAP as a server.\n",
    "    * Handlers convert data into OPeNDAP data model.\n",
    "    * OPeNDAP data model responses can be converted into python objects (client side).\n",
    "    * Implements a `webob` WSGI server.\n",
    "* Explore the `opendap_protocol` -  a pure Python implementation of OPeNDAP that convert dask or numpy arrays to the protocol format.\n",
    "    * Does not work with PyDAP objects.\n",
    "    * https://opendap-protocol.readthedocs.io/en/latest/usage.html\n",
    "    * https://github.com/MeteoSwiss/opendap-protocol/blob/master/opendap_protocol/protocol.py"
   ]
  },
  {
   "cell_type": "markdown",
   "id": "04633f54-7876-4775-ae93-2c4c7f005877",
   "metadata": {},
   "source": [
    "# fd"
   ]
  },
  {
   "cell_type": "code",
   "execution_count": null,
   "id": "776b2aec-6415-4dd2-a8d3-9fea62800334",
   "metadata": {},
   "outputs": [],
   "source": []
  }
 ],
 "metadata": {
  "kernelspec": {
   "display_name": "Python 3 (ipykernel)",
   "language": "python",
   "name": "python3"
  },
  "language_info": {
   "codemirror_mode": {
    "name": "ipython",
    "version": 3
   },
   "file_extension": ".py",
   "mimetype": "text/x-python",
   "name": "python",
   "nbconvert_exporter": "python",
   "pygments_lexer": "ipython3",
   "version": "3.11.0"
  }
 },
 "nbformat": 4,
 "nbformat_minor": 5
}
