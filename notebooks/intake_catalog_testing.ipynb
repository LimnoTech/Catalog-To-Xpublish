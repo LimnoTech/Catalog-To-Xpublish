{
 "cells": [
  {
   "cell_type": "markdown",
   "id": "ce6abf0a-e36b-40a6-b2f7-c71978dd0abd",
   "metadata": {},
   "source": [
    "# Catalog testing\n",
    "\n",
    "**Author:** Xavier R Nogueira\n",
    "\n",
    "**Overview:** The intake catalog will be the core of our first server implementation. Reading data descriptions, drivers, and locations from the catalog will allow xpublish to meet the expected OPeNDAP endpoint functionality. Later on we will also (potentially) implement read-in from a STAC catalog."
   ]
  },
  {
   "cell_type": "code",
   "execution_count": 1,
   "id": "b51187e3-8f38-4cdb-87a1-db8595d76550",
   "metadata": {
    "tags": []
   },
   "outputs": [],
   "source": [
    "import intake\n",
    "import panel\n",
    "from pathlib import Path"
   ]
  },
  {
   "cell_type": "code",
   "execution_count": 3,
   "id": "a12fd1da-2489-4daf-996c-e2038bb49eee",
   "metadata": {
    "tags": []
   },
   "outputs": [
    {
     "name": "stdout",
     "output_type": "stream",
     "text": [
      "[WindowsPath('C:/Users/xrnogueira/Documents/Xpublish-OPeNDAP-Server/intake_catalogs/sample_zarr_catalog.yml')]\n"
     ]
    }
   ],
   "source": [
    "INTAKE_CATALOG_DIR = Path.cwd().parent / 'intake_catalogs'\n",
    "\n",
    "# find a YAML intake catalogs\n",
    "intake_yamls = []\n",
    "for cat in INTAKE_CATALOG_DIR.iterdir():\n",
    "    if cat.suffix == '.yml':\n",
    "        intake_yamls.append(cat)\n",
    "print(intake_yamls)"
   ]
  },
  {
   "cell_type": "code",
   "execution_count": 4,
   "id": "270eafc7-2a64-4ed9-b8e5-fa1412c407ec",
   "metadata": {
    "tags": []
   },
   "outputs": [
    {
     "data": {
      "application/yaml": "sample_zarr_catalog:\n  args:\n    path: C:\\Users\\xrnogueira\\Documents\\Xpublish-OPeNDAP-Server\\intake_catalogs\\sample_zarr_catalog.yml\n  description: ''\n  driver: intake.catalog.local.YAMLFileCatalog\n  metadata: {}\n",
      "text/plain": [
       "sample_zarr_catalog:\n",
       "  args:\n",
       "    path: C:\\Users\\xrnogueira\\Documents\\Xpublish-OPeNDAP-Server\\intake_catalogs\\sample_zarr_catalog.yml\n",
       "  description: ''\n",
       "  driver: intake.catalog.local.YAMLFileCatalog\n",
       "  metadata: {}\n"
      ]
     },
     "metadata": {
      "application/json": {
       "root": "sample_zarr_catalog"
      }
     },
     "output_type": "display_data"
    }
   ],
   "source": [
    "catalog = intake.open_catalog(intake_yamls[0])\n",
    "catalog"
   ]
  },
  {
   "cell_type": "code",
   "execution_count": 7,
   "id": "7f8cee7a-b3bf-4c22-bdef-15e2050c4fb2",
   "metadata": {
    "tags": []
   },
   "outputs": [
    {
     "data": {},
     "metadata": {},
     "output_type": "display_data"
    },
    {
     "data": {
      "application/vnd.holoviews_exec.v0+json": "",
      "text/html": [
       "<div id='1028'>\n",
       "  <div class=\"bk-root\" id=\"0478bf01-e5d9-4003-b758-8d6956f624c3\" data-root-id=\"1028\"></div>\n",
       "</div>\n",
       "<script type=\"application/javascript\">(function(root) {\n",
       "  function embed_document(root) {\n",
       "    var docs_json = {\"ebfc55ad-200e-4506-91d8-36e6608e7fd0\":{\"defs\":[{\"extends\":null,\"module\":null,\"name\":\"ReactiveHTML1\",\"overrides\":[],\"properties\":[]},{\"extends\":null,\"module\":null,\"name\":\"FlexBox1\",\"overrides\":[],\"properties\":[{\"default\":\"flex-start\",\"kind\":null,\"name\":\"align_content\"},{\"default\":\"flex-start\",\"kind\":null,\"name\":\"align_items\"},{\"default\":\"row\",\"kind\":null,\"name\":\"flex_direction\"},{\"default\":\"wrap\",\"kind\":null,\"name\":\"flex_wrap\"},{\"default\":\"flex-start\",\"kind\":null,\"name\":\"justify_content\"}]},{\"extends\":null,\"module\":null,\"name\":\"GridStack1\",\"overrides\":[],\"properties\":[{\"default\":\"warn\",\"kind\":null,\"name\":\"mode\"},{\"default\":null,\"kind\":null,\"name\":\"ncols\"},{\"default\":null,\"kind\":null,\"name\":\"nrows\"},{\"default\":true,\"kind\":null,\"name\":\"allow_resize\"},{\"default\":true,\"kind\":null,\"name\":\"allow_drag\"},{\"default\":[],\"kind\":null,\"name\":\"state\"}]},{\"extends\":null,\"module\":null,\"name\":\"click1\",\"overrides\":[],\"properties\":[{\"default\":\"\",\"kind\":null,\"name\":\"terminal_output\"},{\"default\":\"\",\"kind\":null,\"name\":\"debug_name\"},{\"default\":0,\"kind\":null,\"name\":\"clears\"}]},{\"extends\":null,\"module\":null,\"name\":\"NotificationAreaBase1\",\"overrides\":[],\"properties\":[{\"default\":\"bottom-right\",\"kind\":null,\"name\":\"position\"},{\"default\":0,\"kind\":null,\"name\":\"_clear\"}]},{\"extends\":null,\"module\":null,\"name\":\"NotificationArea1\",\"overrides\":[],\"properties\":[{\"default\":[],\"kind\":null,\"name\":\"notifications\"},{\"default\":\"bottom-right\",\"kind\":null,\"name\":\"position\"},{\"default\":0,\"kind\":null,\"name\":\"_clear\"},{\"default\":[{\"background\":\"#ffc107\",\"icon\":{\"className\":\"fas fa-exclamation-triangle\",\"color\":\"white\",\"tagName\":\"i\"},\"type\":\"warning\"},{\"background\":\"#007bff\",\"icon\":{\"className\":\"fas fa-info-circle\",\"color\":\"white\",\"tagName\":\"i\"},\"type\":\"info\"}],\"kind\":null,\"name\":\"types\"}]},{\"extends\":null,\"module\":null,\"name\":\"Notification\",\"overrides\":[],\"properties\":[{\"default\":null,\"kind\":null,\"name\":\"background\"},{\"default\":3000,\"kind\":null,\"name\":\"duration\"},{\"default\":null,\"kind\":null,\"name\":\"icon\"},{\"default\":\"\",\"kind\":null,\"name\":\"message\"},{\"default\":null,\"kind\":null,\"name\":\"notification_type\"},{\"default\":false,\"kind\":null,\"name\":\"_destroyed\"}]},{\"extends\":null,\"module\":null,\"name\":\"TemplateActions1\",\"overrides\":[],\"properties\":[{\"default\":0,\"kind\":null,\"name\":\"open_modal\"},{\"default\":0,\"kind\":null,\"name\":\"close_modal\"}]},{\"extends\":null,\"module\":null,\"name\":\"MaterialTemplateActions1\",\"overrides\":[],\"properties\":[{\"default\":0,\"kind\":null,\"name\":\"open_modal\"},{\"default\":0,\"kind\":null,\"name\":\"close_modal\"}]}],\"roots\":{\"references\":[{\"attributes\":{\"children\":[{\"id\":\"1049\"},{\"id\":\"1050\"},{\"id\":\"1051\"}],\"margin\":[0,0,0,0],\"name\":\"Row00964\",\"width_policy\":\"max\"},\"id\":\"1048\",\"type\":\"Row\"},{\"attributes\":{\"children\":[{\"id\":\"1032\"},{\"id\":\"1035\"}],\"margin\":[0,0,0,0],\"name\":\"Column00961\",\"width_policy\":\"max\"},\"id\":\"1031\",\"type\":\"Column\"},{\"attributes\":{\"height_policy\":\"min\",\"margin\":[0,0,0,0],\"max_width\":5000,\"name\":\"Search\",\"width_policy\":\"max\"},\"id\":\"1049\",\"type\":\"Row\"},{\"attributes\":{\"children\":[{\"id\":\"1044\"},{\"id\":\"1045\"}],\"margin\":[0,0,0,0],\"name\":\"Controls\"},\"id\":\"1043\",\"type\":\"Row\"},{\"attributes\":{\"css_classes\":[\"markdown\"],\"margin\":[5,5,5,5],\"max_height\":40,\"name\":\"Markdown00931\",\"text\":\"&lt;h4&gt;Catalogs&lt;/h4&gt;\"},\"id\":\"1033\",\"type\":\"panel.models.markup.HTML\"},{\"attributes\":{\"css_classes\":[\"markdown\"],\"margin\":[5,5,5,5],\"name\":\"Markdown00917\",\"text\":\"&lt;div class=&quot;codehilite&quot;&gt;&lt;pre&gt;&lt;span&gt;&lt;/span&gt;&lt;code&gt;&lt;span class=&quot;nt&quot;&gt;name&lt;/span&gt;&lt;span class=&quot;p&quot;&gt;:&lt;/span&gt;&lt;span class=&quot;w&quot;&gt; &lt;/span&gt;&lt;span class=&quot;l l-Scalar l-Scalar-Plain&quot;&gt;conus404-hourly-s3&lt;/span&gt;\\n&lt;span class=&quot;nt&quot;&gt;container&lt;/span&gt;&lt;span class=&quot;p&quot;&gt;:&lt;/span&gt;&lt;span class=&quot;w&quot;&gt; &lt;/span&gt;&lt;span class=&quot;l l-Scalar l-Scalar-Plain&quot;&gt;xarray&lt;/span&gt;\\n&lt;span class=&quot;nt&quot;&gt;plugin&lt;/span&gt;&lt;span class=&quot;p&quot;&gt;:&lt;/span&gt;&lt;span class=&quot;w&quot;&gt; &lt;/span&gt;&lt;span class=&quot;p p-Indicator&quot;&gt;[&lt;/span&gt;&lt;span class=&quot;s&quot;&gt;&amp;#39;zarr&amp;#39;&lt;/span&gt;&lt;span class=&quot;p p-Indicator&quot;&gt;]&lt;/span&gt;\\n&lt;span class=&quot;nt&quot;&gt;driver&lt;/span&gt;&lt;span class=&quot;p&quot;&gt;:&lt;/span&gt;&lt;span class=&quot;w&quot;&gt; &lt;/span&gt;&lt;span class=&quot;p p-Indicator&quot;&gt;[&lt;/span&gt;&lt;span class=&quot;s&quot;&gt;&amp;#39;zarr&amp;#39;&lt;/span&gt;&lt;span class=&quot;p p-Indicator&quot;&gt;]&lt;/span&gt;\\n&lt;span class=&quot;nt&quot;&gt;description&lt;/span&gt;&lt;span class=&quot;p&quot;&gt;:&lt;/span&gt;&lt;span class=&quot;w&quot;&gt; &lt;/span&gt;&lt;span class=&quot;l l-Scalar l-Scalar-Plain&quot;&gt;CONUS404 - s3 storage, 70 TB, 40 years of hourly data, CONUS extent with 4 km gridded spatial resolution, 157 variables&lt;/span&gt;\\n&lt;span class=&quot;nt&quot;&gt;direct_access&lt;/span&gt;&lt;span class=&quot;p&quot;&gt;:&lt;/span&gt;&lt;span class=&quot;w&quot;&gt; &lt;/span&gt;&lt;span class=&quot;l l-Scalar l-Scalar-Plain&quot;&gt;forbid&lt;/span&gt;\\n&lt;span class=&quot;nt&quot;&gt;user_parameters&lt;/span&gt;&lt;span class=&quot;p&quot;&gt;:&lt;/span&gt;&lt;span class=&quot;w&quot;&gt; &lt;/span&gt;&lt;span class=&quot;p p-Indicator&quot;&gt;[]&lt;/span&gt;\\n&lt;span class=&quot;nt&quot;&gt;metadata&lt;/span&gt;&lt;span class=&quot;p&quot;&gt;:&lt;/span&gt;&lt;span class=&quot;w&quot;&gt; &lt;/span&gt;\\n&lt;span class=&quot;nt&quot;&gt;args&lt;/span&gt;&lt;span class=&quot;p&quot;&gt;:&lt;/span&gt;&lt;span class=&quot;w&quot;&gt; &lt;/span&gt;\\n&lt;span class=&quot;w&quot;&gt;  &lt;/span&gt;&lt;span class=&quot;nt&quot;&gt;urlpath&lt;/span&gt;&lt;span class=&quot;p&quot;&gt;:&lt;/span&gt;&lt;span class=&quot;w&quot;&gt; &lt;/span&gt;&lt;span class=&quot;l l-Scalar l-Scalar-Plain&quot;&gt;s3://nhgf-development/conus404/conus404_hourly_202209.zarr&lt;/span&gt;\\n&lt;span class=&quot;w&quot;&gt;  &lt;/span&gt;&lt;span class=&quot;nt&quot;&gt;consolidated&lt;/span&gt;&lt;span class=&quot;p&quot;&gt;:&lt;/span&gt;&lt;span class=&quot;w&quot;&gt; &lt;/span&gt;&lt;span class=&quot;l l-Scalar l-Scalar-Plain&quot;&gt;True&lt;/span&gt;\\n&lt;span class=&quot;w&quot;&gt;  &lt;/span&gt;&lt;span class=&quot;nt&quot;&gt;storage_options&lt;/span&gt;&lt;span class=&quot;p&quot;&gt;:&lt;/span&gt;&lt;span class=&quot;w&quot;&gt; &lt;/span&gt;\\n&lt;span class=&quot;w&quot;&gt;    &lt;/span&gt;&lt;span class=&quot;nt&quot;&gt;requester_pays&lt;/span&gt;&lt;span class=&quot;p&quot;&gt;:&lt;/span&gt;&lt;span class=&quot;w&quot;&gt; &lt;/span&gt;&lt;span class=&quot;l l-Scalar l-Scalar-Plain&quot;&gt;True&lt;/span&gt;\\n&lt;/code&gt;&lt;/pre&gt;&lt;/div&gt;\"},\"id\":\"1047\",\"type\":\"panel.models.markup.HTML\"},{\"attributes\":{\"css_classes\":[\"markdown\"],\"margin\":[5,5,5,5],\"max_height\":40,\"name\":\"Markdown00914\",\"text\":\"&lt;h4&gt;Sources&lt;/h4&gt;\"},\"id\":\"1041\",\"type\":\"panel.models.markup.HTML\"},{\"attributes\":{\"children\":[{\"id\":\"1041\"},{\"id\":\"1042\"}],\"margin\":[0,0,0,0],\"name\":\"Select Data Source\"},\"id\":\"1040\",\"type\":\"Column\"},{\"attributes\":{\"margin\":[5,10,5,10],\"min_width\":200,\"options\":[\"sample_zarr_catalog\"],\"size\":9,\"value\":[\"sample_zarr_catalog\"],\"width_policy\":\"min\"},\"id\":\"1034\",\"type\":\"MultiSelect\"},{\"attributes\":{\"children\":[{\"id\":\"1030\"},{\"id\":\"1031\"},{\"id\":\"1039\"},{\"id\":\"1046\"}],\"margin\":[0,0,0,0],\"name\":\"Row00963\",\"width_policy\":\"max\"},\"id\":\"1029\",\"type\":\"Row\"},{\"attributes\":{\"client_comm_id\":\"d10ec6a0d23844f3b9ceea9e4708fc1c\",\"comm_id\":\"1dd26358523f47bb90024b161d7ba167\",\"plot_id\":\"1028\"},\"id\":\"1052\",\"type\":\"panel.models.comm_manager.CommManager\"},{\"attributes\":{\"icon\":null,\"label\":\"\\ud83d\\udd0d\",\"margin\":[5,10,5,10],\"min_width\":50,\"width\":50},\"id\":\"1038\",\"type\":\"Toggle\"},{\"attributes\":{\"margin\":[0,0,0,0],\"name\":\"Plot\",\"width_policy\":\"max\"},\"id\":\"1051\",\"type\":\"Column\"},{\"attributes\":{\"margin\":[0,0,0,0],\"max_width\":5000,\"name\":\"Add Catalog\",\"width_policy\":\"max\"},\"id\":\"1050\",\"type\":\"Column\"},{\"attributes\":{\"children\":[{\"id\":\"1033\"},{\"id\":\"1034\"}],\"margin\":[0,0,0,0],\"name\":\"Select Catalog\"},\"id\":\"1032\",\"type\":\"Column\"},{\"attributes\":{\"icon\":null,\"label\":\"\\uff0b\",\"margin\":[5,10,5,10],\"min_width\":50,\"width\":50},\"id\":\"1036\",\"type\":\"Toggle\"},{\"attributes\":{\"icon\":null,\"label\":\"\\ud83d\\udcca\",\"margin\":[5,10,5,10],\"min_width\":50,\"width\":50},\"id\":\"1044\",\"type\":\"Toggle\"},{\"attributes\":{\"margin\":[5,10,5,10],\"min_width\":200,\"options\":[\"conus404-hourly-s3\",\"conus404-hourly-osn\",\"nwis-streamflow-usgs-gages-osn\",\"red-river-subset-s3\",\"red-river-subset-osn\",\"alaska-et-2020-subset-s3\",\"alaska-et-2020-subset-osn\",\"prism-v2-osn\"],\"size\":9,\"value\":[\"conus404-hourly-s3\"],\"width_policy\":\"min\"},\"id\":\"1042\",\"type\":\"MultiSelect\"},{\"attributes\":{\"disabled\":true,\"icon\":null,\"label\":\"\\u2699\",\"margin\":[5,10,5,10],\"min_width\":50,\"width\":50},\"id\":\"1045\",\"type\":\"Toggle\"},{\"attributes\":{\"height\":35,\"margin\":[5,5,5,5],\"name\":\"PNG00959\",\"text\":\"&lt;img src=&quot;data:image/png;base64,iVBORw0KGgoAAAANSUhEUgAAAC4AAAAjCAYAAADrJzjpAAAABGdBTUEAALGPC/xhBQAAACBjSFJNAAB6JgAAgIQAAPoAAACA6AAAdTAAAOpgAAA6mAAAF3CculE8AAAACXBIWXMAAAsTAAALEwEAmpwYAAABWWlUWHRYTUw6Y29tLmFkb2JlLnhtcAAAAAAAPHg6eG1wbWV0YSB4bWxuczp4PSJhZG9iZTpuczptZXRhLyIgeDp4bXB0az0iWE1QIENvcmUgNS40LjAiPgogICA8cmRmOlJERiB4bWxuczpyZGY9Imh0dHA6Ly93d3cudzMub3JnLzE5OTkvMDIvMjItcmRmLXN5bnRheC1ucyMiPgogICAgICA8cmRmOkRlc2NyaXB0aW9uIHJkZjphYm91dD0iIgogICAgICAgICAgICB4bWxuczp0aWZmPSJodHRwOi8vbnMuYWRvYmUuY29tL3RpZmYvMS4wLyI+CiAgICAgICAgIDx0aWZmOk9yaWVudGF0aW9uPjE8L3RpZmY6T3JpZW50YXRpb24+CiAgICAgIDwvcmRmOkRlc2NyaXB0aW9uPgogICA8L3JkZjpSREY+CjwveDp4bXBtZXRhPgpMwidZAAAEJUlEQVRYCe2Xx4tUQRDG16yYMO+uCVFUTHjQi3jxKqLgP+HVs4rgSQ/+FV6MmFDMBzHnuKaDLi7qKuLFnP1+8/pbirczb2dGNxws+Lq6uqurv1evXk9PQ0N9MigtWyH9S/gt/EiafjngZ9916iOOk1k1tP1r8O1Trv+J9/TrGFjFhn4r1G0/Ae0x7HrE69AGcRFsvoVCqYZ4DOLgP1PUOFe4UW7S69DEdFzcYh+7rDhzZSc1yHw5H04Q5Humam693jofYEB+IG/7lZUb95Ov1+RaoV3gIViD/io0C8sFxvCvFE9THZnE55bwWBgqOPskoVG4KmwSvgmOq2714kzP1JJrAsQqIb7ySj4eL/IlOcsExPtnVo3t4OQ/WfqUwOZfBLJBhnjVJlSLZh3rwecU4770EgGhVIreXsmh5Fmm4VeNwATbK5wRXguLBISMdFmLJc/ODWsBH/kQ4aKwW9givBV4iLpiexEk2wSySZa2CieTzUOxcS2Zjr68Ney7wmbhTbJ5A6sFhKwXZr7klRqTXij7pUDw90nvlB4uHE82mxfVbCQa+3zY2E8EPsiNyf6YNElZJSBV1bpJz9OCdwLBHexwCDJCfWe+VvIm/UgxZgiW7eqwn2ue/so0aV7J7Kz8dE2aOiewmI8RfVuYJlg4yk4IzFVTNrwZk36ofj4WiYn7PZO9WEDMK7MqtH46iJ0WCOYstKo/S7DwYR0TqiFv0i3yn+oA0iOFs0LchxKaLiDmk1ldtL4nD5OfS+KT+gR/KswWLJA/KhSRN2lOiyleKB1JuyRjCZlHWNJ114tiSTh4q5bPCSHwPSLkycfyuKf55rBmlPouR8eFtDPt/cOS6rteHEvCmzxXmLkhFBc216lrng+Xh+HIaxIso9W5IDDneA/Udwl5Xw3VLw7Cr+hRgc1cNm3qcwJZIH9QwMflwUfdKFjGqMMPTiTdItsl5P3s/1fawSDvknCmID8/RIf8PgFi14VJggXSl4RImhLqFtLe1OTRLgmTf6GxBXaU5qPbJsQTaKzsK0IkTQm57h1fQ/9eHJysHhIg4bJ5pT5XBCR/7o7XmG+Yftg7GnMJOS5ru028CefrASGSb5ftHw2uBshEgZKJmeY+3qOktV9JTJ7M7hcieTK/tOSVnSQ30rwzfVO2695xknvPKG/K7c0fo8uGo3KNcF7goT4kzUNMEBCvz6webr055PcIkPQxSB98SZoap9YRr8usXmojCf4MQJYfHu7qfghOk3ECEv2zkV5sI5ld4hEzfVk2RyES/bKRPtBGUjvEB/LUOD86SJzPRvpQa3LcKjcIvnPzi9vnhfM9St6Oc3X3OQ26Q4jr2Fxt/7k4uDdCU5vejB8YjxVtbh+vw9djjsEY88SvJPaNHKIvMfEpihH96+6zUV7KjeV9ytkQ7pA/TXKLPl8vNeQAAAAASUVORK5CYII=&quot; width=&quot;46px&quot; height=&quot;35px&quot; alt=&quot;&quot;&gt;&lt;/img&gt;\",\"width\":46},\"id\":\"1030\",\"type\":\"panel.models.markup.HTML\"},{\"attributes\":{\"children\":[{\"id\":\"1029\"},{\"id\":\"1048\"}],\"margin\":[0,0,0,0],\"name\":\"Column00965\",\"width_policy\":\"max\"},\"id\":\"1028\",\"type\":\"Column\"},{\"attributes\":{\"children\":[{\"id\":\"1040\"},{\"id\":\"1043\"}],\"margin\":[0,0,0,0],\"name\":\"Column00962\",\"width_policy\":\"max\"},\"id\":\"1039\",\"type\":\"Column\"},{\"attributes\":{\"children\":[{\"id\":\"1047\"}],\"css_classes\":[\"scrollable\"],\"height\":240,\"margin\":[0,0,0,0],\"name\":\"Description\",\"sizing_mode\":\"stretch_width\",\"width_policy\":\"max\"},\"id\":\"1046\",\"type\":\"Column\"},{\"attributes\":{\"icon\":null,\"label\":\"\\u2015\",\"margin\":[5,10,5,10],\"min_width\":50,\"subscribed_events\":[\"button_click\"],\"width\":50},\"id\":\"1037\",\"type\":\"Button\"},{\"attributes\":{\"children\":[{\"id\":\"1036\"},{\"id\":\"1037\"},{\"id\":\"1038\"}],\"margin\":[0,0,0,0],\"name\":\"Controls\"},\"id\":\"1035\",\"type\":\"Row\"}],\"root_ids\":[\"1028\",\"1052\"]},\"title\":\"Bokeh Application\",\"version\":\"2.4.3\"}};\n",
       "    var render_items = [{\"docid\":\"ebfc55ad-200e-4506-91d8-36e6608e7fd0\",\"root_ids\":[\"1028\"],\"roots\":{\"1028\":\"0478bf01-e5d9-4003-b758-8d6956f624c3\"}}];\n",
       "    root.Bokeh.embed.embed_items_notebook(docs_json, render_items);\n",
       "    for (const render_item of render_items) {\n",
       "      for (const root_id of render_item.root_ids) {\n",
       "\tconst id_el = document.getElementById(root_id)\n",
       "\tif (id_el.children.length && (id_el.children[0].className === 'bk-root')) {\n",
       "\t  const root_el = id_el.children[0]\n",
       "\t  root_el.id = root_el.id + '-rendered'\n",
       "\t}\n",
       "      }\n",
       "    }\n",
       "  }\n",
       "  if (root.Bokeh !== undefined && root.Bokeh.Panel !== undefined) {\n",
       "    embed_document(root);\n",
       "  } else {\n",
       "    var attempts = 0;\n",
       "    var timer = setInterval(function(root) {\n",
       "      if (root.Bokeh !== undefined && root.Bokeh.Panel !== undefined) {\n",
       "        clearInterval(timer);\n",
       "        embed_document(root);\n",
       "      } else if (document.readyState == \"complete\") {\n",
       "        attempts++;\n",
       "        if (attempts > 200) {\n",
       "          clearInterval(timer);\n",
       "          console.log(\"Bokeh: ERROR: Unable to run BokehJS code because BokehJS library is missing\");\n",
       "        }\n",
       "      }\n",
       "    }, 25, root)\n",
       "  }\n",
       "})(window);</script>"
      ],
      "text/plain": [
       "Column(width_policy='max')\n",
       "    [0] Row(width_policy='max')\n",
       "        [0] PNG(str)\n",
       "        [1] Column(width_policy='max')\n",
       "            [0] Column(name='Select Catalog')\n",
       "                [0] Markdown(str, max_height=40)\n",
       "                [1] MultiSelect(min_width=200, options={'sample_zarr_catalog': <...}, size=9, value=[<Intake catalog: s...], width_policy='min')\n",
       "            [1] Row(name='Controls')\n",
       "                [0] Toggle(name='＋', width=50)\n",
       "                [1] Button(name='―', width=50)\n",
       "                [2] Toggle(name='🔍', width=50)\n",
       "        [2] Column(width_policy='max')\n",
       "            [0] Column(name='Select Data Source')\n",
       "                [0] Markdown(str, max_height=40)\n",
       "                [1] MultiSelect(min_width=200, options=OrderedDict([('conus404-ho...]), size=9, value=[name: conus404-hourly-s3\n",
       "...], width_policy='min')\n",
       "            [1] Row(name='Controls')\n",
       "                [0] Toggle(name='📊', width=50)\n",
       "                [1] Toggle(disabled=True, name='⚙', width=50)\n",
       "        [3] Column(height=240, name='Description', scroll=True, sizing_mode='stretch_width', width_policy='max')\n",
       "            [0] Markdown(str)\n",
       "    [1] Row(width_policy='max')\n",
       "        [0] Row(height_policy='min', max_width=5000, name='Search', width_policy='max')\n",
       "        [1] Column(max_width=5000, name='Add Catalog', width_policy='max')\n",
       "        [2] Column(name='Plot', width_policy='max')"
      ]
     },
     "execution_count": 7,
     "metadata": {
      "application/vnd.holoviews_exec.v0+json": {
       "id": "1028"
      }
     },
     "output_type": "execute_result"
    }
   ],
   "source": [
    "# check if the catalog was loaded correct\n",
    "intake.interface.gui.GUI([catalog])"
   ]
  },
  {
   "cell_type": "code",
   "execution_count": null,
   "id": "0f3b3010-9c5c-4ecf-b87b-017f14392bd4",
   "metadata": {},
   "outputs": [],
   "source": []
  },
  {
   "cell_type": "code",
   "execution_count": null,
   "id": "0b4cbaed-dca4-4608-9039-ff868bd68fb7",
   "metadata": {},
   "outputs": [],
   "source": []
  }
 ],
 "metadata": {
  "kernelspec": {
   "display_name": "Python 3 (ipykernel)",
   "language": "python",
   "name": "python3"
  },
  "language_info": {
   "codemirror_mode": {
    "name": "ipython",
    "version": 3
   },
   "file_extension": ".py",
   "mimetype": "text/x-python",
   "name": "python",
   "nbconvert_exporter": "python",
   "pygments_lexer": "ipython3",
   "version": "3.11.0"
  }
 },
 "nbformat": 4,
 "nbformat_minor": 5
}
