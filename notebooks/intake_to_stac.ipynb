{
 "cells": [
  {
   "attachments": {},
   "cell_type": "markdown",
   "metadata": {},
   "source": [
    "# Converts an Intake Catalog to a STAC Catalog"
   ]
  },
  {
   "cell_type": "code",
   "execution_count": 1,
   "metadata": {},
   "outputs": [],
   "source": [
    "import intake\n",
    "import pystac\n",
    "from pathlib import Path"
   ]
  },
  {
   "cell_type": "code",
   "execution_count": null,
   "metadata": {},
   "outputs": [],
   "source": [
    "# set up intake catalog path\n",
    "INTAKE_PATH = Path(\n",
    "    r'c:/Users/xrnogueira/Documents/Xpublish-OPeNDAP-Server/test_catalogs/test_intake_zarr_catalog.yaml',\n",
    ")\n",
    "assert INTAKE_PATH.exists()\n",
    "\n",
    "# set output stac catalog path\n",
    "STAC_PATH = Path(\n",
    "    r'c:/Users/xrnogueira/Documents/Xpublish-OPeNDAP-Server/test_catalogs/nested_full_stac_zarr_catalog.json',\n",
    ")"
   ]
  },
  {
   "cell_type": "code",
   "execution_count": 3,
   "metadata": {},
   "outputs": [],
   "source": []
  },
  {
   "cell_type": "code",
   "execution_count": null,
   "metadata": {},
   "outputs": [],
   "source": []
  }
 ],
 "metadata": {
  "kernelspec": {
   "display_name": "xpublish_opendap_server",
   "language": "python",
   "name": "python3"
  },
  "language_info": {
   "codemirror_mode": {
    "name": "ipython",
    "version": 3
   },
   "file_extension": ".py",
   "mimetype": "text/x-python",
   "name": "python",
   "nbconvert_exporter": "python",
   "pygments_lexer": "ipython3",
   "version": "3.11.3"
  },
  "orig_nbformat": 4
 },
 "nbformat": 4,
 "nbformat_minor": 2
}
