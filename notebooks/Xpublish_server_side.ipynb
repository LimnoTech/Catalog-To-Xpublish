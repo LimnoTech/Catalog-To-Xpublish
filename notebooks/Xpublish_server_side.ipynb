{
 "cells": [
  {
   "cell_type": "markdown",
   "id": "8d85440a-a98e-4098-ae8d-76cbf9df409a",
   "metadata": {},
   "source": [
    "* Learn what FastAPI does and what makes it different than a standard WSGI server application.\n",
    "    * https://fastapi.tiangolo.com/\n",
    "    * Swagger exposes the endpoints in a cool UI\n",
    "    * Relationship with Gunicorn: https://www.uvicorn.org/deployment/#running-programmatically\n",
    "* Xpublish server side: https://xpublish.readthedocs.io/en/latest/tutorial.html#server-side\n",
    "    * Figure out the fastapi routes allowing data to be served via xpublish.\n",
    "* **The goal is to serve and catalog .zarr data from S3 up using the OPeNDAP standard**.\n",
    "    * Someone else's attemp (without zarr): https://github.com/gulfofmaine/xpublish-opendap/blob/main/xpublish_opendap/dap_xarray.py\n",
    "    * Uses a pure python OPeNDAP protocol: https://github.com/MeteoSwiss/opendap-protocol"
   ]
  },
  {
   "cell_type": "code",
   "execution_count": null,
   "id": "23e6a036-b9fd-4db8-a4e6-0cc92e8c3360",
   "metadata": {},
   "outputs": [],
   "source": []
  }
 ],
 "metadata": {
  "kernelspec": {
   "display_name": "Python 3 (ipykernel)",
   "language": "python",
   "name": "python3"
  },
  "language_info": {
   "codemirror_mode": {
    "name": "ipython",
    "version": 3
   },
   "file_extension": ".py",
   "mimetype": "text/x-python",
   "name": "python",
   "nbconvert_exporter": "python",
   "pygments_lexer": "ipython3",
   "version": "3.11.0"
  }
 },
 "nbformat": 4,
 "nbformat_minor": 5
}
