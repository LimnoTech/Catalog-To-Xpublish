{
 "cells": [
  {
   "attachments": {},
   "cell_type": "markdown",
   "id": "9258ab2f-17f7-4b4f-8183-eb611fd49c94",
   "metadata": {},
   "source": [
    "OPeNDAP Testing\n",
    "===============\n",
    "\n",
    "**Author:** Xavier R Nogueira\n",
    "\n",
    "**Resources:**\n",
    "* [Walk-thru / tutorial](https://www.earthdata.nasa.gov/engage/open-data-services-and-software/api/opendap).\n",
    "* [User guide](https://www.earthdata.nasa.gov/opendap-user-guide) - inlcudes info on how to structure URLs for specific subsets.\n",
    "* [Publication](https://www.opendap.org/pdf/ESE-RFC-004v1.1.pdf) - includes specific info on the protocol.\n",
    "* opendap endpoint for testing: `http://test.opendap.org/dap/data/nc/sst.mnmean.nc.gz`"
   ]
  },
  {
   "attachments": {},
   "cell_type": "markdown",
   "id": "d320ac72-413e-496d-9b13-5f40f77f3c8f",
   "metadata": {},
   "source": [
    "# Using a base OPeNDAP server via `requests` (broswer interface)\n",
    "\n",
    "**Notes:**\n",
    "* Responses are returned in binary, therefore to covert to traditional strings use `.decode('utf-8')`."
   ]
  },
  {
   "cell_type": "code",
   "execution_count": 6,
   "id": "a69159ee-2988-4cd0-a870-e1d8b9c6bf3c",
   "metadata": {
    "tags": []
   },
   "outputs": [],
   "source": [
    "import requests"
   ]
  },
  {
   "attachments": {},
   "cell_type": "markdown",
   "id": "1df3157f-d503-4a46-b96d-0004843ca786",
   "metadata": {
    "tags": []
   },
   "source": [
    "### Data Descriptor Structure (DDS) request"
   ]
  },
  {
   "cell_type": "code",
   "execution_count": 13,
   "id": "08b1e819-cc2e-4349-91c7-d612ca2df735",
   "metadata": {
    "tags": []
   },
   "outputs": [],
   "source": [
    "dds = requests.get(r'http://test.opendap.org/dap/data/nc/sst.mnmean.nc.gz.dds')"
   ]
  },
  {
   "cell_type": "code",
   "execution_count": 37,
   "id": "ff32420c-1f3b-4970-b917-c93d2de7b041",
   "metadata": {
    "tags": []
   },
   "outputs": [
    {
     "name": "stdout",
     "output_type": "stream",
     "text": [
      "['__attrs__', '__bool__', '__class__', '__delattr__', '__dict__', '__dir__', '__doc__', '__enter__', '__eq__', '__exit__', '__format__', '__ge__', '__getattribute__', '__getstate__', '__gt__', '__hash__', '__init__', '__init_subclass__', '__iter__', '__le__', '__lt__', '__module__', '__ne__', '__new__', '__nonzero__', '__reduce__', '__reduce_ex__', '__repr__', '__setattr__', '__setstate__', '__sizeof__', '__str__', '__subclasshook__', '__weakref__', '_content', '_content_consumed', '_next', 'apparent_encoding', 'close', 'connection', 'content', 'cookies', 'elapsed', 'encoding', 'headers', 'history', 'is_permanent_redirect', 'is_redirect', 'iter_content', 'iter_lines', 'json', 'links', 'next', 'ok', 'raise_for_status', 'raw', 'reason', 'request', 'status_code', 'text', 'url']\n"
     ]
    }
   ],
   "source": [
    "print(dir(dds))"
   ]
  },
  {
   "cell_type": "code",
   "execution_count": 30,
   "id": "94116969-efaf-4046-b351-57daaeb11f50",
   "metadata": {
    "tags": []
   },
   "outputs": [
    {
     "data": {
      "text/plain": [
       "b'Dataset {\\n    Float32 lat[lat = 89];\\n    Float32 lon[lon = 180];\\n    Float64 time[time = 1857];\\n    Float64 time_bnds[time = 1857][nbnds = 2];\\n    Grid {\\n      Array:\\n        Int16 sst[time = 1857][lat = 89][lon = 180];\\n      Maps:\\n        Float64 time[time = 1857];\\n        Float32 lat[lat = 89];\\n        Float32 lon[lon = 180];\\n    } sst;\\n} sst.mnmean.nc;\\n'"
      ]
     },
     "execution_count": 30,
     "metadata": {},
     "output_type": "execute_result"
    }
   ],
   "source": [
    "# content includes a \"b\" a t the start of the line\n",
    "dds.content"
   ]
  },
  {
   "cell_type": "code",
   "execution_count": 34,
   "id": "61cf1048-f19a-432d-a9a6-6d349a12a0b1",
   "metadata": {
    "tags": []
   },
   "outputs": [
    {
     "data": {
      "text/plain": [
       "'Dataset {\\n    Float32 lat[lat = 89];\\n    Float32 lon[lon = 180];\\n    Float64 time[time = 1857];\\n    Float64 time_bnds[time = 1857][nbnds = 2];\\n    Grid {\\n      Array:\\n        Int16 sst[time = 1857][lat = 89][lon = 180];\\n      Maps:\\n        Float64 time[time = 1857];\\n        Float32 lat[lat = 89];\\n        Float32 lon[lon = 180];\\n    } sst;\\n} sst.mnmean.nc;\\n'"
      ]
     },
     "execution_count": 34,
     "metadata": {},
     "output_type": "execute_result"
    }
   ],
   "source": [
    "dds.text"
   ]
  },
  {
   "cell_type": "code",
   "execution_count": 44,
   "id": "7f6c880b-4251-4e37-bd25-ed5635658dcc",
   "metadata": {
    "tags": []
   },
   "outputs": [
    {
     "data": {
      "text/plain": [
       "<generator object Response.iter_lines at 0x000001AD5056DA40>"
      ]
     },
     "execution_count": 44,
     "metadata": {},
     "output_type": "execute_result"
    }
   ],
   "source": [
    "# iterlines is a generator object\n",
    "dds.iter_lines()"
   ]
  },
  {
   "cell_type": "code",
   "execution_count": 67,
   "id": "d36815aa-f707-425a-b5f6-21ad524300fa",
   "metadata": {
    "tags": []
   },
   "outputs": [
    {
     "name": "stdout",
     "output_type": "stream",
     "text": [
      "Dataset {\n",
      "    Float32 lat[lat = 89];\n",
      "    Float32 lon[lon = 180];\n",
      "    Float64 time[time = 1857];\n",
      "    Float64 time_bnds[time = 1857][nbnds = 2];\n",
      "    Grid {\n",
      "      Array:\n",
      "        Int16 sst[time = 1857][lat = 89][lon = 180];\n",
      "      Maps:\n",
      "        Float64 time[time = 1857];\n",
      "        Float32 lat[lat = 89];\n",
      "        Float32 lon[lon = 180];\n",
      "    } sst;\n",
      "} sst.mnmean.nc;\n"
     ]
    }
   ],
   "source": [
    "for i in dds.iter_lines():\n",
    "    print(i.decode('utf-8'))"
   ]
  },
  {
   "attachments": {},
   "cell_type": "markdown",
   "id": "50c03b76-55c1-4b20-94b3-c7711300b3c2",
   "metadata": {
    "jp-MarkdownHeadingCollapsed": true,
    "tags": []
   },
   "source": [
    "### Data Attribute Structure (DAS) request"
   ]
  },
  {
   "cell_type": "code",
   "execution_count": 39,
   "id": "cca92008-2a38-4d93-8bb4-cedba8c5c93d",
   "metadata": {
    "tags": []
   },
   "outputs": [],
   "source": [
    "das = requests.get(r'http://test.opendap.org/dap/data/nc/sst.mnmean.nc.gz.das')"
   ]
  },
  {
   "cell_type": "code",
   "execution_count": 68,
   "id": "845807c9-ca46-4e66-8ee8-1016dd40d5ae",
   "metadata": {
    "tags": []
   },
   "outputs": [
    {
     "name": "stdout",
     "output_type": "stream",
     "text": [
      "Attributes {\n",
      "    lat {\n",
      "        String units \"degrees_north\";\n",
      "        String long_name \"Latitude\";\n",
      "        Float32 actual_range 88.0000000, -88.0000000;\n",
      "        String standard_name \"latitude_north\";\n",
      "        String axis \"y\";\n",
      "        String coordinate_defines \"center\";\n",
      "    }\n",
      "    lon {\n",
      "        String units \"degrees_east\";\n",
      "        String long_name \"Longitude\";\n",
      "        Float32 actual_range 0.00000000, 358.000000;\n",
      "        String standard_name \"longitude_east\";\n",
      "        String axis \"x\";\n",
      "        String coordinate_defines \"center\";\n",
      "    }\n",
      "    time {\n",
      "        String units \"days since 1800-1-1 00:00:00\";\n",
      "        String long_name \"Time\";\n",
      "        Float64 actual_range 19723.00000000000, 76214.00000000000;\n",
      "        String delta_t \"0000-01-00 00:00:00\";\n",
      "        String avg_period \"0000-01-00 00:00:00\";\n",
      "        String prev_avg_period \"0000-00-07 00:00:00\";\n",
      "        String standard_name \"time\";\n",
      "        String axis \"t\";\n",
      "    }\n",
      "    time_bnds {\n",
      "        String long_name \"Time Boundaries\";\n",
      "    }\n",
      "    sst {\n",
      "        String long_name \"Monthly Means of Sea Surface Temperature\";\n",
      "        Float32 valid_range -5.00000000, 40.0000000;\n",
      "        Float32 actual_range -1.79999995, 34.2399979;\n",
      "        String units \"degC\";\n",
      "        Float32 add_offset 0.00000000;\n",
      "        Float32 scale_factor 0.00999999978;\n",
      "        Int16 missing_value 32767;\n",
      "        Int16 precision 2;\n",
      "        Int16 least_significant_digit 1;\n",
      "        String var_desc \"Sea Surface Temperature\";\n",
      "        String dataset \"NOAA Extended Reconstructed SST V3\";\n",
      "        String level_desc \"Surface\";\n",
      "        String statistic \"Mean\";\n",
      "        String parent_stat \"Mean\";\n",
      "    }\n",
      "    NC_GLOBAL {\n",
      "        String title \"NOAA Extended Reconstructed SST V3\";\n",
      "        String conventions \"CF-1.0\";\n",
      "        String history \"created 09/2007 by CAS\";\n",
      "        String comments \"The extended reconstructed sea surface temperature (ERSST)\n",
      "was constructed using the most recently available \n",
      "Comprehensive Ocean-Atmosphere Data Set (COADS) SST data \n",
      "and improved statistical methods that allow stable \n",
      "reconstruction using sparse data.\n",
      "Currently, ERSST version 2 (ERSST.v2) and version 3 (ERSST.v3) are available from NCDC.\n",
      " ERSST.v3 is an improved extended reconstruction over version 2.\n",
      " Most of the improvements are justified by testing with simulated data.\n",
      " The major differences are caused by the improved low-frequency (LF) tuning of ERSST.v3 \n",
      "which reduces the SST anomaly damping before 1930 using the optimized parameters.\n",
      " Beginning in 1985, ERSST.v3 is also improved by explicitly including\n",
      " bias-adjusted satellite infrared data from AVHRR.\";\n",
      "        String platform \"Model\";\n",
      "        String source \"NOAA/NESDIS/National Climatic Data Center\";\n",
      "        String institution \"NOAA/NESDIS/National Climatic Data Center\";\n",
      "        String references \"http://www.ncdc.noaa.gov/oa/climate/research/sst/ersstv3.php\n",
      "http://www.cdc.noaa.gov/cdc/data.noaa.ersst.html\";\n",
      "        String citation \"Smith, T.M., R.W. Reynolds, Thomas C. Peterson, and Jay Lawrimore 2007: Improvements to NOAA's Historical Merged Land-Ocean Surface Temperature Analysis (1880-2006). In press. Journal of Climate (ERSSTV3).\n",
      "Smith, T.M., and R.W. Reynolds, 2003: Extended Reconstruction of Global Sea Surface Temperatures Based on COADS Data (1854-1997). Journal of Climate, 16, 1495-1510. ERSSTV1\n",
      " Smith, T.M., and R.W. Reynolds, 2004: Improved Extended Reconstruction of SST (1854-1997). Journal of Climate, 17, 2466-2477.\";\n",
      "    }\n",
      "    DODS_EXTRA {\n",
      "        String Unlimited_Dimension \"time\";\n",
      "    }\n",
      "}\n"
     ]
    }
   ],
   "source": [
    "for i in das.iter_lines():\n",
    "    print(i.decode('utf-8'))"
   ]
  },
  {
   "attachments": {},
   "cell_type": "markdown",
   "id": "08f852d2-46a1-4969-9fb3-46bff3e8ef67",
   "metadata": {},
   "source": [
    "### Getting a dimension's array"
   ]
  },
  {
   "cell_type": "code",
   "execution_count": 63,
   "id": "9e409b24-9f60-41cf-aed1-ad563f933287",
   "metadata": {
    "tags": []
   },
   "outputs": [],
   "source": [
    "# lets get the lat longs of the dataset as zipped list\n",
    "lats = requests.get(r'http://test.opendap.org/dap/data/nc/sst.mnmean.nc.gz.ascii?lat')"
   ]
  },
  {
   "cell_type": "code",
   "execution_count": 83,
   "id": "8e03f836-e888-46d7-985b-43f186a818cb",
   "metadata": {
    "tags": []
   },
   "outputs": [],
   "source": [
    "lats_list = [float(i) for i in lats.text.split(', ') if i.isnumeric()]"
   ]
  },
  {
   "cell_type": "code",
   "execution_count": 85,
   "id": "c8a2cfcd-3f14-4125-8ce5-d91c2dbdc758",
   "metadata": {
    "tags": []
   },
   "outputs": [
    {
     "name": "stdout",
     "output_type": "stream",
     "text": [
      "[88.0, 86.0, 84.0, 82.0, 80.0, 78.0, 76.0, 74.0, 72.0, 70.0, 68.0, 66.0, 64.0, 62.0, 60.0, 58.0, 56.0, 54.0, 52.0, 50.0, 48.0, 46.0, 44.0, 42.0, 40.0, 38.0, 36.0, 34.0, 32.0, 30.0, 28.0, 26.0, 24.0, 22.0, 20.0, 18.0, 16.0, 14.0, 12.0, 10.0, 8.0, 6.0, 4.0, 2.0, 0.0]\n"
     ]
    }
   ],
   "source": [
    "print(lats_list)"
   ]
  },
  {
   "cell_type": "code",
   "execution_count": 122,
   "id": "a5d526ec-7040-4a7d-8c03-b17190cf049f",
   "metadata": {
    "tags": []
   },
   "outputs": [],
   "source": [
    "# lets get the lat longs of the dataset as zipped list\n",
    "lons = requests.get(r'http://test.opendap.org/dap/data/nc/sst.mnmean.nc.gz.ascii?lon')"
   ]
  },
  {
   "cell_type": "code",
   "execution_count": 123,
   "id": "c5d94fec-07d1-40ba-8324-15a3c2db6312",
   "metadata": {
    "tags": []
   },
   "outputs": [],
   "source": [
    "lons_list = [float(i) for i in lons.text.split(', ') if i.isnumeric()]"
   ]
  },
  {
   "cell_type": "code",
   "execution_count": 125,
   "id": "e996d3e7-c7c8-44b3-ab66-59236bc0c81a",
   "metadata": {
    "tags": []
   },
   "outputs": [
    {
     "name": "stdout",
     "output_type": "stream",
     "text": [
      "[0.0, 2.0, 4.0, 6.0, 8.0, 10.0, 12.0, 14.0, 16.0, 18.0, 20.0, 22.0, 24.0, 26.0, 28.0, 30.0, 32.0, 34.0, 36.0, 38.0, 40.0, 42.0, 44.0, 46.0, 48.0, 50.0, 52.0, 54.0, 56.0, 58.0, 60.0, 62.0, 64.0, 66.0, 68.0, 70.0, 72.0, 74.0, 76.0, 78.0, 80.0, 82.0, 84.0, 86.0, 88.0, 90.0, 92.0, 94.0, 96.0, 98.0, 100.0, 102.0, 104.0, 106.0, 108.0, 110.0, 112.0, 114.0, 116.0, 118.0, 120.0, 122.0, 124.0, 126.0, 128.0, 130.0, 132.0, 134.0, 136.0, 138.0, 140.0, 142.0, 144.0, 146.0, 148.0, 150.0, 152.0, 154.0, 156.0, 158.0, 160.0, 162.0, 164.0, 166.0, 168.0, 170.0, 172.0, 174.0, 176.0, 178.0, 180.0, 182.0, 184.0, 186.0, 188.0, 190.0, 192.0, 194.0, 196.0, 198.0, 200.0, 202.0, 204.0, 206.0, 208.0, 210.0, 212.0, 214.0, 216.0, 218.0, 220.0, 222.0, 224.0, 226.0, 228.0, 230.0, 232.0, 234.0, 236.0, 238.0, 240.0, 242.0, 244.0, 246.0, 248.0, 250.0, 252.0, 254.0, 256.0, 258.0, 260.0, 262.0, 264.0, 266.0, 268.0, 270.0, 272.0, 274.0, 276.0, 278.0, 280.0, 282.0, 284.0, 286.0, 288.0, 290.0, 292.0, 294.0, 296.0, 298.0, 300.0, 302.0, 304.0, 306.0, 308.0, 310.0, 312.0, 314.0, 316.0, 318.0, 320.0, 322.0, 324.0, 326.0, 328.0, 330.0, 332.0, 334.0, 336.0, 338.0, 340.0, 342.0, 344.0, 346.0, 348.0, 350.0, 352.0, 354.0, 356.0]\n"
     ]
    }
   ],
   "source": [
    "print(lons_list)"
   ]
  },
  {
   "attachments": {},
   "cell_type": "markdown",
   "id": "7741c2e3-ed50-4e29-a2de-cf8adde44316",
   "metadata": {
    "tags": []
   },
   "source": [
    "### Getting a subset of `sst` data using dimension indexing\n",
    "\n",
    "* Note that the first item is time (always?), the second is latitude, the third is longitude. The latter two order seems to match the return from the DDS.\n",
    "* **The indexing is inclusive!** For example [0:1:5] included 6 records not 5.\n",
    "* **The middle number in the indexing controls the step!**\n",
    "* **32767** represent missing data!"
   ]
  },
  {
   "cell_type": "code",
   "execution_count": 224,
   "id": "e4090f6a-052f-4c7e-a2ab-33b5d839fc5e",
   "metadata": {
    "tags": []
   },
   "outputs": [],
   "source": [
    "subset = 'sst[0:1:5][5:1:9][0:1:10]'\n",
    "\n",
    "# note that the first item is time, the second is latitude, the third is longitude\n",
    "data_response = requests.get(f'http://test.opendap.org/dap/data/nc/sst.mnmean.nc.gz.ascii?{subset}')"
   ]
  },
  {
   "cell_type": "code",
   "execution_count": 225,
   "id": "d933decf-517f-42db-9e0e-8663f862b4aa",
   "metadata": {
    "tags": []
   },
   "outputs": [
    {
     "data": {
      "text/plain": [
       "'http://test.opendap.org/dap/data/nc/sst.mnmean.nc.gz.ascii?sst%5B0:1:5%5D%5B5:1:9%5D%5B0:1:10%5D'"
      ]
     },
     "execution_count": 225,
     "metadata": {},
     "output_type": "execute_result"
    }
   ],
   "source": [
    "data_response.url"
   ]
  },
  {
   "cell_type": "code",
   "execution_count": 226,
   "id": "fd6c1477-6d93-407a-9cf2-c7cd0c2a5824",
   "metadata": {
    "tags": []
   },
   "outputs": [
    {
     "name": "stdout",
     "output_type": "stream",
     "text": [
      "Dataset: sst.mnmean.nc\n",
      "sst.lon, 0, 2, 4, 6, 8, 10, 12, 14, 16, 18, 20\n",
      "sst.sst[sst.time=19723][sst.lat=78], -65, -10, 49, 94, 176, 147, 136, 135, 79, -180, -176\n",
      "sst.sst[sst.time=19723][sst.lat=76], -9, 36, 100, 122, 159, 146, 155, 220, 183, 89, -124\n",
      "sst.sst[sst.time=19723][sst.lat=74], 10, 55, 126, 212, 239, 229, 260, 345, 338, 223, 176\n",
      "sst.sst[sst.time=19723][sst.lat=72], 168, 212, 270, 332, 369, 379, 409, 441, 453, 443, 384\n",
      "sst.sst[sst.time=19723][sst.lat=70], 365, 391, 422, 448, 476, 495, 499, 497, 503, 495, 32767\n",
      "sst.sst[sst.time=19754][sst.lat=78], -87, -37, 22, 69, 155, 126, 105, 77, -50, -180, -180\n",
      "sst.sst[sst.time=19754][sst.lat=76], -30, 13, 77, 103, 145, 135, 139, 195, 150, -54, -180\n",
      "sst.sst[sst.time=19754][sst.lat=74], -3, 43, 113, 199, 229, 223, 255, 338, 326, 206, 159\n",
      "sst.sst[sst.time=19754][sst.lat=72], 157, 204, 260, 319, 357, 372, 405, 436, 443, 427, 368\n",
      "sst.sst[sst.time=19754][sst.lat=70], 349, 378, 408, 432, 461, 483, 484, 477, 477, 468, 32767\n",
      "sst.sst[sst.time=19782][sst.lat=78], -93, -45, 14, 65, 160, 139, 118, 99, 24, -180, -180\n",
      "sst.sst[sst.time=19782][sst.lat=76], -32, 11, 77, 110, 165, 164, 163, 209, 164, 35, -100\n",
      "sst.sst[sst.time=19782][sst.lat=74], 4, 52, 122, 210, 248, 248, 274, 351, 338, 221, 175\n",
      "sst.sst[sst.time=19782][sst.lat=72], 163, 214, 267, 322, 360, 376, 408, 435, 440, 426, 367\n",
      "sst.sst[sst.time=19782][sst.lat=70], 343, 375, 403, 423, 450, 471, 472, 463, 460, 452, 32767\n",
      "sst.sst[sst.time=19813][sst.lat=78], -76, -25, 40, 96, 196, 175, 143, 110, 43, -164, -171\n",
      "sst.sst[sst.time=19813][sst.lat=76], 6, 49, 124, 164, 220, 214, 202, 235, 182, 92, -67\n",
      "sst.sst[sst.time=19813][sst.lat=74], 54, 96, 171, 265, 299, 290, 305, 373, 359, 243, 199\n",
      "sst.sst[sst.time=19813][sst.lat=72], 202, 245, 299, 355, 388, 397, 423, 446, 452, 440, 383\n",
      "sst.sst[sst.time=19813][sst.lat=70], 355, 385, 413, 432, 455, 475, 478, 472, 469, 461, 32767\n",
      "sst.sst[sst.time=19843][sst.lat=78], -23, 29, 99, 161, 264, 242, 206, 164, 91, -109, -139\n",
      "sst.sst[sst.time=19843][sst.lat=76], 93, 135, 219, 264, 317, 304, 279, 298, 243, 158, 92\n",
      "sst.sst[sst.time=19843][sst.lat=74], 165, 197, 278, 377, 404, 382, 378, 430, 415, 309, 273\n",
      "sst.sst[sst.time=19843][sst.lat=72], 311, 340, 396, 455, 481, 478, 489, 502, 508, 503, 451\n",
      "sst.sst[sst.time=19843][sst.lat=70], 443, 466, 494, 515, 535, 551, 553, 544, 540, 528, 32767\n",
      "sst.sst[sst.time=19874][sst.lat=78], 33, 86, 164, 241, 360, 347, 308, 255, 179, -60, -84\n",
      "sst.sst[sst.time=19874][sst.lat=76], 187, 232, 323, 381, 449, 444, 408, 411, 351, 272, 211\n",
      "sst.sst[sst.time=19874][sst.lat=74], 279, 313, 400, 508, 542, 521, 506, 543, 524, 425, 400\n",
      "sst.sst[sst.time=19874][sst.lat=72], 431, 459, 520, 586, 613, 606, 611, 620, 632, 633, 586\n",
      "sst.sst[sst.time=19874][sst.lat=70], 565, 586, 619, 647, 671, 688, 693, 689, 689, 677, 32767\n",
      "\n"
     ]
    }
   ],
   "source": [
    "print(str(data_response.content.decode('utf-8')))"
   ]
  },
  {
   "attachments": {},
   "cell_type": "markdown",
   "id": "a58838f0-47db-4b7c-8090-994c4095342c",
   "metadata": {
    "tags": []
   },
   "source": [
    "### Getting the same subset of `sst` data using Hydax geospatial query\n",
    "\n",
    "* Hydrax is a DAP server developed by the core project devs. **Essentially it allows one to query georeferenced data using lat/lon coordinates.**\n",
    "* **Syntax:** `?geogrid(grid variable, upper lat, left lon, lower lat, right lon, *other expressions in double quotes.)`\n",
    "    * Other expressions can include variable conditional queries (i.e., `\"197<time<=203\"`).\n",
    "    * Other expressions must be comma delineated.\n",
    "* **The double quotes and brackets can mess up the string url. We must use a URL parser like `urllib.parse.quote(url, safe=':/')`**"
   ]
  },
  {
   "cell_type": "code",
   "execution_count": 142,
   "id": "2a540763-56ed-4b27-8e86-275c45e629d9",
   "metadata": {
    "tags": []
   },
   "outputs": [],
   "source": [
    "import urllib.parse"
   ]
  },
  {
   "cell_type": "code",
   "execution_count": 214,
   "id": "67337e1f-a745-485f-9c9f-9f6520028420",
   "metadata": {
    "tags": []
   },
   "outputs": [
    {
     "name": "stdout",
     "output_type": "stream",
     "text": [
      "http://test.opendap.org/dap/data/nc/sst.mnmean.nc.gz.ascii?geogrid(sst,78,0,70,20,\"19723<time<19874\")\n"
     ]
    }
   ],
   "source": [
    "request_str = 'http://test.opendap.org/dap/data/nc/sst.mnmean.nc.gz.ascii?geogrid(sst,78,0,70,20,\"19723<time<19874\")'\n",
    "print(request_str)"
   ]
  },
  {
   "cell_type": "code",
   "execution_count": 215,
   "id": "44044c21-d199-4e66-8ecd-8c1d2a1a5112",
   "metadata": {
    "tags": []
   },
   "outputs": [
    {
     "name": "stdout",
     "output_type": "stream",
     "text": [
      "http://test.opendap.org/dap/data/nc/sst.mnmean.nc.gz.ascii%3Fgeogrid%28sst%2C78%2C0%2C70%2C20%2C%2219723%3Ctime%3C19874%22%29\n"
     ]
    }
   ],
   "source": [
    "# parse the url to ignore the double quotes\n",
    "url_encoded = urllib.parse.quote(request_str, safe=':/')\n",
    "print(url_encoded)"
   ]
  },
  {
   "cell_type": "code",
   "execution_count": 216,
   "id": "68e90b35-cd5f-4130-b0f3-d871b7b6e012",
   "metadata": {
    "tags": []
   },
   "outputs": [],
   "source": [
    "# note that the first item is time, the second is latitude, the third is longitude\n",
    "data_response = requests.get(url_encoded)"
   ]
  },
  {
   "cell_type": "code",
   "execution_count": 217,
   "id": "11a02690-5e11-4a71-b0de-93452830e87e",
   "metadata": {
    "tags": []
   },
   "outputs": [
    {
     "name": "stdout",
     "output_type": "stream",
     "text": [
      "Dataset: function_result_sst.mnmean.nc\n",
      "sst.lon, 0, 2, 4, 6, 8, 10, 12, 14, 16, 18, 20\n",
      "sst.sst[sst.time=19754][sst.lat=78], -87, -37, 22, 69, 155, 126, 105, 77, -50, -180, -180\n",
      "sst.sst[sst.time=19754][sst.lat=76], -30, 13, 77, 103, 145, 135, 139, 195, 150, -54, -180\n",
      "sst.sst[sst.time=19754][sst.lat=74], -3, 43, 113, 199, 229, 223, 255, 338, 326, 206, 159\n",
      "sst.sst[sst.time=19754][sst.lat=72], 157, 204, 260, 319, 357, 372, 405, 436, 443, 427, 368\n",
      "sst.sst[sst.time=19754][sst.lat=70], 349, 378, 408, 432, 461, 483, 484, 477, 477, 468, 32767\n",
      "sst.sst[sst.time=19782][sst.lat=78], -93, -45, 14, 65, 160, 139, 118, 99, 24, -180, -180\n",
      "sst.sst[sst.time=19782][sst.lat=76], -32, 11, 77, 110, 165, 164, 163, 209, 164, 35, -100\n",
      "sst.sst[sst.time=19782][sst.lat=74], 4, 52, 122, 210, 248, 248, 274, 351, 338, 221, 175\n",
      "sst.sst[sst.time=19782][sst.lat=72], 163, 214, 267, 322, 360, 376, 408, 435, 440, 426, 367\n",
      "sst.sst[sst.time=19782][sst.lat=70], 343, 375, 403, 423, 450, 471, 472, 463, 460, 452, 32767\n",
      "sst.sst[sst.time=19813][sst.lat=78], -76, -25, 40, 96, 196, 175, 143, 110, 43, -164, -171\n",
      "sst.sst[sst.time=19813][sst.lat=76], 6, 49, 124, 164, 220, 214, 202, 235, 182, 92, -67\n",
      "sst.sst[sst.time=19813][sst.lat=74], 54, 96, 171, 265, 299, 290, 305, 373, 359, 243, 199\n",
      "sst.sst[sst.time=19813][sst.lat=72], 202, 245, 299, 355, 388, 397, 423, 446, 452, 440, 383\n",
      "sst.sst[sst.time=19813][sst.lat=70], 355, 385, 413, 432, 455, 475, 478, 472, 469, 461, 32767\n",
      "sst.sst[sst.time=19843][sst.lat=78], -23, 29, 99, 161, 264, 242, 206, 164, 91, -109, -139\n",
      "sst.sst[sst.time=19843][sst.lat=76], 93, 135, 219, 264, 317, 304, 279, 298, 243, 158, 92\n",
      "sst.sst[sst.time=19843][sst.lat=74], 165, 197, 278, 377, 404, 382, 378, 430, 415, 309, 273\n",
      "sst.sst[sst.time=19843][sst.lat=72], 311, 340, 396, 455, 481, 478, 489, 502, 508, 503, 451\n",
      "sst.sst[sst.time=19843][sst.lat=70], 443, 466, 494, 515, 535, 551, 553, 544, 540, 528, 32767\n",
      "\n"
     ]
    }
   ],
   "source": [
    "print(data_response.content.decode('utf-8'))"
   ]
  },
  {
   "attachments": {},
   "cell_type": "markdown",
   "id": "98bcfdec-44a8-40ec-8da1-19af16ea291b",
   "metadata": {
    "tags": []
   },
   "source": [
    "### Converting data in request via `linear_scale`\n",
    "\n",
    "* We can use the following syntax `linear_scale(variable/query, scale_factor/m, offset/b)` where y = m*variable + b."
   ]
  },
  {
   "cell_type": "code",
   "execution_count": 231,
   "id": "f4c248ac-7648-4e8c-8808-e9c406fc34f4",
   "metadata": {
    "tags": []
   },
   "outputs": [
    {
     "name": "stdout",
     "output_type": "stream",
     "text": [
      "http://test.opendap.org/dap/data/nc/sst.mnmean.nc.gz.ascii?linear_scale(geogrid(sst,78,0,70,20,\"19723<time<19874\"),0.01,0)\n"
     ]
    }
   ],
   "source": [
    "request_str = 'http://test.opendap.org/dap/data/nc/sst.mnmean.nc.gz.ascii?linear_scale(geogrid(sst,78,0,70,20,\"19723<time<19874\"),0.01,0)'\n",
    "print(request_str)"
   ]
  },
  {
   "cell_type": "code",
   "execution_count": 232,
   "id": "10c1ac0a-45be-47a6-bab5-c8f264fe0fef",
   "metadata": {
    "tags": []
   },
   "outputs": [
    {
     "name": "stdout",
     "output_type": "stream",
     "text": [
      "http://test.opendap.org/dap/data/nc/sst.mnmean.nc.gz.ascii%3Flinear_scale%28geogrid%28sst%2C78%2C0%2C70%2C20%2C%2219723%3Ctime%3C19874%22%29%2C0.01%2C0%29\n"
     ]
    }
   ],
   "source": [
    "# parse the url to ignore the double quotes\n",
    "url_encoded = urllib.parse.quote(request_str, safe=':/')\n",
    "print(url_encoded)"
   ]
  },
  {
   "cell_type": "code",
   "execution_count": 233,
   "id": "f2952260-8884-4bd4-8d6a-f3c937ae5034",
   "metadata": {
    "tags": []
   },
   "outputs": [],
   "source": [
    "# note that the first item is time, the second is latitude, the third is longitude\n",
    "data_response = requests.get(url_encoded)"
   ]
  },
  {
   "cell_type": "code",
   "execution_count": 234,
   "id": "9c77ff14-b912-4439-95d6-d9c4f2bc42ce",
   "metadata": {
    "tags": []
   },
   "outputs": [
    {
     "name": "stdout",
     "output_type": "stream",
     "text": [
      "Dataset: function_result_sst.mnmean.nc\n",
      "sst.lon, 0, 2, 4, 6, 8, 10, 12, 14, 16, 18, 20\n",
      "sst.sst[sst.time=19754][sst.lat=78], -0.87, -0.37, 0.22, 0.69, 1.55, 1.26, 1.05, 0.77, -0.5, -1.8, -1.8\n",
      "sst.sst[sst.time=19754][sst.lat=76], -0.3, 0.13, 0.77, 1.03, 1.45, 1.35, 1.39, 1.95, 1.5, -0.54, -1.8\n",
      "sst.sst[sst.time=19754][sst.lat=74], -0.03, 0.43, 1.13, 1.99, 2.29, 2.23, 2.55, 3.38, 3.26, 2.06, 1.59\n",
      "sst.sst[sst.time=19754][sst.lat=72], 1.57, 2.04, 2.6, 3.19, 3.57, 3.72, 4.05, 4.36, 4.43, 4.27, 3.68\n",
      "sst.sst[sst.time=19754][sst.lat=70], 3.49, 3.78, 4.08, 4.32, 4.61, 4.83, 4.84, 4.77, 4.77, 4.68, 327.67\n",
      "sst.sst[sst.time=19782][sst.lat=78], -0.93, -0.45, 0.14, 0.65, 1.6, 1.39, 1.18, 0.99, 0.24, -1.8, -1.8\n",
      "sst.sst[sst.time=19782][sst.lat=76], -0.32, 0.11, 0.77, 1.1, 1.65, 1.64, 1.63, 2.09, 1.64, 0.35, -1\n",
      "sst.sst[sst.time=19782][sst.lat=74], 0.04, 0.52, 1.22, 2.1, 2.48, 2.48, 2.74, 3.51, 3.38, 2.21, 1.75\n",
      "sst.sst[sst.time=19782][sst.lat=72], 1.63, 2.14, 2.67, 3.22, 3.6, 3.76, 4.08, 4.35, 4.4, 4.26, 3.67\n",
      "sst.sst[sst.time=19782][sst.lat=70], 3.43, 3.75, 4.03, 4.23, 4.5, 4.71, 4.72, 4.63, 4.6, 4.52, 327.67\n",
      "sst.sst[sst.time=19813][sst.lat=78], -0.76, -0.25, 0.4, 0.96, 1.96, 1.75, 1.43, 1.1, 0.43, -1.64, -1.71\n",
      "sst.sst[sst.time=19813][sst.lat=76], 0.06, 0.49, 1.24, 1.64, 2.2, 2.14, 2.02, 2.35, 1.82, 0.92, -0.67\n",
      "sst.sst[sst.time=19813][sst.lat=74], 0.54, 0.96, 1.71, 2.65, 2.99, 2.9, 3.05, 3.73, 3.59, 2.43, 1.99\n",
      "sst.sst[sst.time=19813][sst.lat=72], 2.02, 2.45, 2.99, 3.55, 3.88, 3.97, 4.23, 4.46, 4.52, 4.4, 3.83\n",
      "sst.sst[sst.time=19813][sst.lat=70], 3.55, 3.85, 4.13, 4.32, 4.55, 4.75, 4.78, 4.72, 4.69, 4.61, 327.67\n",
      "sst.sst[sst.time=19843][sst.lat=78], -0.23, 0.29, 0.99, 1.61, 2.64, 2.42, 2.06, 1.64, 0.91, -1.09, -1.39\n",
      "sst.sst[sst.time=19843][sst.lat=76], 0.93, 1.35, 2.19, 2.64, 3.17, 3.04, 2.79, 2.98, 2.43, 1.58, 0.92\n",
      "sst.sst[sst.time=19843][sst.lat=74], 1.65, 1.97, 2.78, 3.77, 4.04, 3.82, 3.78, 4.3, 4.15, 3.09, 2.73\n",
      "sst.sst[sst.time=19843][sst.lat=72], 3.11, 3.4, 3.96, 4.55, 4.81, 4.78, 4.89, 5.02, 5.08, 5.03, 4.51\n",
      "sst.sst[sst.time=19843][sst.lat=70], 4.43, 4.66, 4.94, 5.15, 5.35, 5.51, 5.53, 5.44, 5.4, 5.28, 327.67\n",
      "\n"
     ]
    }
   ],
   "source": [
    "print(data_response.content.decode('utf-8'))"
   ]
  },
  {
   "attachments": {},
   "cell_type": "markdown",
   "id": "18597e21-1715-4274-904f-84686eaad8b7",
   "metadata": {},
   "source": [
    "## Testing out Series data\n",
    "\n",
    "* Endpoint is a Rhode Island dock weather station -  `http://test.opendap.org/dap/data/ff/gsodock.dat`.\n",
    "* The series are stored more as a relational data table where rows correspond to sets of values across each variable column (including time).\n",
    "* **The requests are a bit different, once needs to specify the variable(s) and threshold variables using a `Sequence_Name.VariableName` notation**.\n",
    "    * Example: `URI_GSO-Dock.Salinity&URI_GSO-Dock.Time>35234.5&URI_GSO-Dock.Depth>2` woudl return just salinity at the described thresholds.\n",
    "    * Note that url encoding is required for thresholding.\n",
    "    * To pull multiple variables at once use commas to separate them! Once you use the \"&\" sign the following text is intepreted as query thresholds."
   ]
  },
  {
   "cell_type": "code",
   "execution_count": 240,
   "id": "107da4e1-c764-40a3-a90d-9488257b2282",
   "metadata": {
    "tags": []
   },
   "outputs": [
    {
     "name": "stdout",
     "output_type": "stream",
     "text": [
      "Dataset {\n",
      "    Sequence {\n",
      "        Float64 Time;\n",
      "        Float32 Depth;\n",
      "        Float32 Sea_Temp;\n",
      "        Float32 Salinity;\n",
      "        Float32 DO_percent;\n",
      "        Float32 pH;\n",
      "        Float32 Turbidity;\n",
      "        Float32 Air_Temp;\n",
      "        Float32 Wind_Speed;\n",
      "        Float32 Wind_Direction;\n",
      "        Float32 Barometric_Pres;\n",
      "        Float32 Solar_Radiation;\n",
      "    } URI_GSO-Dock;\n",
      "} gsodock.dat;\n",
      "\n"
     ]
    }
   ],
   "source": [
    "# get the dds\n",
    "dds_series = requests.get(r'http://test.opendap.org/dap/data/ff/gsodock.dat.dds')\n",
    "print(str(dds_series.content.decode('utf-8')))"
   ]
  },
  {
   "cell_type": "code",
   "execution_count": 241,
   "id": "5d48c1c1-d37a-4f1d-80c0-66966da12d08",
   "metadata": {
    "tags": []
   },
   "outputs": [
    {
     "name": "stdout",
     "output_type": "stream",
     "text": [
      "Attributes {\n",
      "    FF_GLOBAL {\n",
      "        String Server \"DODS FreeFrom based on FFND release 4.2.3\";\n",
      "        String text \"Time    Dep     Temp    Sal     DO%     pH      Turb    AirT    WndSpd  WndDir  Baro    Solar\";\n",
      "        String location \"University of Rhode Island/Oceanography School dock\";\n",
      "        Float32 latitude 41.4926;\n",
      "        Float32 longitude -71.4201;\n",
      "        String start_date \"19 June 1996\";\n",
      "    }\n",
      "    Time {\n",
      "        String units \"Days since 1/1/1900\";\n",
      "        Float64 min 35234.0;\n",
      "        Float64 max 35235.0;\n",
      "    }\n",
      "    Depth {\n",
      "        String units \"m\";\n",
      "    }\n",
      "    Sea_Temp {\n",
      "        String units \"degC\";\n",
      "    }\n",
      "    Salinity {\n",
      "        String units \"psu\";\n",
      "    }\n",
      "    DO_percent {\n",
      "    }\n",
      "    pH {\n",
      "        String units \"pct\";\n",
      "    }\n",
      "    Turbidity {\n",
      "        String units \"FTU\";\n",
      "    }\n",
      "    Air_Temp {\n",
      "        String units \"degC\";\n",
      "    }\n",
      "    Wind_Speed {\n",
      "        String units \"m/s\";\n",
      "    }\n",
      "    Wind_Direction {\n",
      "        String units \"deg\";\n",
      "    }\n",
      "    Barometric_Pres {\n",
      "        String units \"mbar\";\n",
      "    }\n",
      "    Solar_Radiation {\n",
      "        String units \"W/m^2\";\n",
      "    }\n",
      "    DO%20 {\n",
      "        String units \"pct\";\n",
      "    }\n",
      "}\n",
      "\n"
     ]
    }
   ],
   "source": [
    "# get the das\n",
    "das_series = requests.get(r'http://test.opendap.org/dap/data/ff/gsodock.dat.das')\n",
    "print(str(das_series.content.decode('utf-8')))"
   ]
  },
  {
   "cell_type": "code",
   "execution_count": 292,
   "id": "e82c7f9c-c664-4ece-88ad-6fe1f5017903",
   "metadata": {
    "tags": []
   },
   "outputs": [],
   "source": [
    "# make a data request to get Ph and Barometric_Pres after time 35234.75\n",
    "series_url = r'http://test.opendap.org/dap/data/ff/gsodock.dat.ascii?URI_GSO-Dock.pH,URI_GSO-Dock.Barometric_Pres&URI_GSO-Dock.Time>35234.75' #&URI_GSO-Dock.Depth>2'"
   ]
  },
  {
   "cell_type": "code",
   "execution_count": 293,
   "id": "d66d977c-8dc9-4db0-a28a-8f6ff76759f2",
   "metadata": {
    "tags": []
   },
   "outputs": [
    {
     "name": "stdout",
     "output_type": "stream",
     "text": [
      "http://test.opendap.org/dap/data/ff/gsodock.dat.ascii%3FURI_GSO-Dock.pH%2CURI_GSO-Dock.Barometric_Pres%26URI_GSO-Dock.Time%3E35234.75\n"
     ]
    }
   ],
   "source": [
    "# parse the url to ignore the double quotes\n",
    "series_url_encoded = urllib.parse.quote(series_url, safe=':/')\n",
    "print(series_url_encoded)"
   ]
  },
  {
   "cell_type": "code",
   "execution_count": 294,
   "id": "80745bc8-a077-475d-b2f5-0a1b31de6be9",
   "metadata": {
    "tags": []
   },
   "outputs": [],
   "source": [
    "# note that the first item is time, the second is latitude, the third is longitude\n",
    "series_data_response = requests.get(series_url_encoded)"
   ]
  },
  {
   "cell_type": "code",
   "execution_count": 295,
   "id": "4587dc3c-49bb-442c-b976-9998899f7381",
   "metadata": {
    "tags": []
   },
   "outputs": [
    {
     "name": "stdout",
     "output_type": "stream",
     "text": [
      "Dataset: gsodock.dat\n",
      "URI_GSO-Dock.pH, URI_GSO-Dock.Barometric_Pres\n",
      "8.013, 768.1\n",
      "8.006, 768.1\n",
      "7.994, 768.1\n",
      "8.013, 768.1\n",
      "8.005, 768.1\n",
      "8.005, 768.1\n",
      "8.019, 768.1\n",
      "7.94, 768.1\n",
      "8.023, 768.1\n",
      "8.039, 768.35\n",
      "8.04, 768.35\n",
      "8.044, 768.1\n",
      "8.029, 767.84\n",
      "8.031, 768.1\n",
      "8.031, 768.1\n",
      "8.011, 768.35\n",
      "8.013, 768.1\n",
      "8.015, 768.35\n",
      "8.008, 768.35\n",
      "8.007, 768.6\n",
      "7.996, 768.86\n",
      "7.978, 768.6\n",
      "7.971, 768.86\n",
      "8.006, 768.6\n",
      "8.002, 768.6\n",
      "8.007, 768.6\n",
      "7.99, 768.86\n",
      "7.976, 768.6\n",
      "7.94, 768.6\n",
      "7.948, 768.6\n",
      "7.943, 768.6\n",
      "7.942, 768.6\n",
      "7.941, 768.6\n",
      "7.968, 768.35\n",
      "8.022, 768.35\n",
      "\n"
     ]
    }
   ],
   "source": [
    "print(series_data_response.content.decode('utf-8'))"
   ]
  }
 ],
 "metadata": {
  "kernelspec": {
   "display_name": "Python 3 (ipykernel)",
   "language": "python",
   "name": "python3"
  },
  "language_info": {
   "codemirror_mode": {
    "name": "ipython",
    "version": 3
   },
   "file_extension": ".py",
   "mimetype": "text/x-python",
   "name": "python",
   "nbconvert_exporter": "python",
   "pygments_lexer": "ipython3",
   "version": "3.11.0"
  }
 },
 "nbformat": 4,
 "nbformat_minor": 5
}
